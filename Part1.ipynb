{
 "cells": [
  {
   "cell_type": "markdown",
   "id": "obvious-sleeping",
   "metadata": {},
   "source": [
    "# Göksu Güz 150180715"
   ]
  },
  {
   "cell_type": "markdown",
   "id": "greater-hormone",
   "metadata": {},
   "source": [
    "# The video named 'hw4_part1_missing' is also the result of one of my trials, but in a way that I don't understand how i lost the code of it, however video remained, so i had to rewrite part 1 :( "
   ]
  },
  {
   "cell_type": "markdown",
   "id": "compatible-wednesday",
   "metadata": {},
   "source": [
    "# That version was better so i wanted to send that video too."
   ]
  },
  {
   "cell_type": "code",
   "execution_count": 103,
   "id": "common-module",
   "metadata": {},
   "outputs": [],
   "source": [
    "import numpy as np\n",
    "import cv2 \n",
    "from scipy import signal\n",
    "from matplotlib import pyplot as plt\n",
    "import os\n",
    "from matplotlib.patches import Circle"
   ]
  },
  {
   "cell_type": "code",
   "execution_count": 104,
   "id": "cellular-sugar",
   "metadata": {},
   "outputs": [],
   "source": [
    "directory = \"DJI_0101/\"\n",
    "count = 0\n",
    "window_size = 5;\n",
    "w = window_size//2\n",
    "images_ = []"
   ]
  },
  {
   "cell_type": "code",
   "execution_count": 105,
   "id": "authentic-plain",
   "metadata": {
    "scrolled": true
   },
   "outputs": [],
   "source": [
    "for fileName in os.listdir(directory):\n",
    "    imageFrom_ = directory + fileName\n",
    "    image = cv2.imread(imageFrom_)\n",
    "    new_corners = []\n",
    "    \n",
    "    if(count == 0):\n",
    "        beforeImage = image\n",
    "        \n",
    "    if(count >= 1 and count%5 == 0):\n",
    "        #Gaussian \n",
    "        image1 = cv2.GaussianBlur(image, (15,15), 1)\n",
    "        beforeImage1 = cv2.GaussianBlur(beforeImage, (15,15), 1)\n",
    "\n",
    "        image1 = cv2.cvtColor(image1, cv2.COLOR_BGR2GRAY)\n",
    "        beforeImage1 = cv2.cvtColor(beforeImage1, cv2.COLOR_BGR2GRAY)\n",
    "        image_new = image.copy()\n",
    "        \n",
    "        #print(image1.shape)\n",
    "        corners = cv2.goodFeaturesToTrack(image1,5,0.4,100) \n",
    "        #print(corners.shape)\n",
    "        x_points = corners[:,0,0]\n",
    "        y_points = corners[:,0,1]\n",
    "        \n",
    "        for i in range(y_points.shape[0]):\n",
    "            point = (int(x_points[i]),int(y_points[i])) \n",
    "            new_corners.append(point)\n",
    "        #real_points = new_corners\n",
    "        \n",
    "        image1 = image1/255.\n",
    "        beforeImage1 = beforeImage1/255.\n",
    "        \n",
    "        new_corners = np.array(new_corners)\n",
    "        \n",
    "        for i in new_corners:\n",
    "            cv2.circle(image_new, i, 3, (255, 0, 0), -1)  \n",
    "        #cv2.imshow(\"img\", image_new)\n",
    "        #cv2.waitKey(0) \n",
    "        \n",
    "        new_img_1 = image.copy()\n",
    "        \n",
    "        for l in new_corners:\n",
    "            j,i = l.flatten()\n",
    "\n",
    "            mode = \"valid\"\n",
    "            temp = 1\n",
    "            Ix = signal.convolve2d(beforeImage1,[[-temp,temp],[-temp,temp]],mode = mode) \n",
    "            Iy = signal.convolve2d(beforeImage1,[[-temp,-temp],[temp,temp]],mode = mode) \n",
    "            It = signal.convolve2d(beforeImage1,[[temp,temp],[temp,temp]],mode = mode) \n",
    "            + signal.convolve2d(image1,[[-temp,-temp],[-temp,-temp]],mode = mode)\n",
    "\n",
    "            IX = Ix[i-w:i+w+1, j-w:j+w+1]\n",
    "            IY = Iy[i-w:i+w+1, j-w:j+w+1]\n",
    "            IT = It[i-w:i+w+1, j-w:j+w+1]\n",
    "\n",
    "            A_transposeA = np.array([[np.sum(IX**2), np.sum(IX * IY)], [np.sum(IY * IX), np.sum(IY**2)]])\n",
    "            A_b = -np.array([np.sum(IX * IT), np.sum(IY*IT)])\n",
    "            inversedA = np.linalg.pinv(A_transposeA)\n",
    "            u,v = np.dot(inversedA, A_b)\n",
    "        \n",
    "            first_point = (j, i)\n",
    "            #print(first_point)\n",
    "            second_point = int(j + int(u*2)),int(i + int(v*2))\n",
    "            \n",
    "            if(abs(u)>0.2 or abs(v)>0.2):           \n",
    "                cv2.arrowedLine(new_img_1, first_point, second_point ,(0, 255, 0), 1,tipLength = 0.3)\n",
    "                \n",
    "        #cv2.imshow(\"img\", new_img_1)\n",
    "        #cv2.waitKey(0)   \n",
    "        images_.append(new_img_1)\n",
    "    beforeImage = image\n",
    "    count += 1 \n",
    "    \n",
    "    "
   ]
  },
  {
   "cell_type": "code",
   "execution_count": 106,
   "id": "raised-theme",
   "metadata": {},
   "outputs": [
    {
     "name": "stderr",
     "output_type": "stream",
     "text": [
      "t:  79%|█████████████████████████████████████████████████████▊              | 72/91 [21:33<00:00, 269.69it/s, now=None]\n",
      "t:   0%|                                                                              | 0/91 [00:00<?, ?it/s, now=None]\u001b[A\n",
      "t:  29%|███████████████████▍                                                | 26/91 [00:00<00:00, 250.78it/s, now=None]\u001b[A"
     ]
    },
    {
     "name": "stdout",
     "output_type": "stream",
     "text": [
      "Moviepy - Building video hw4_part1.mp4.\n",
      "Moviepy - Writing video hw4_part1.mp4\n",
      "\n"
     ]
    },
    {
     "name": "stderr",
     "output_type": "stream",
     "text": [
      "\n",
      "t:  60%|█████████████████████████████████████████                           | 55/91 [00:00<00:00, 257.97it/s, now=None]\u001b[A\n",
      "t:  89%|████████████████████████████████████████████████████████████▌       | 81/91 [00:00<00:00, 219.76it/s, now=None]\u001b[A\n",
      "t:  79%|█████████████████████████████████████████████████████▊              | 72/91 [21:34<00:00, 269.69it/s, now=None]\u001b[A"
     ]
    },
    {
     "name": "stdout",
     "output_type": "stream",
     "text": [
      "Moviepy - Done !\n",
      "Moviepy - video ready hw4_part1.mp4\n"
     ]
    }
   ],
   "source": [
    "import moviepy.editor as mpy\n",
    "clip = mpy.ImageSequenceClip(images_, fps = 10)\n",
    "clip.write_videofile(\"hw4_part1.mp4\", codec=\"libx264\")"
   ]
  },
  {
   "cell_type": "code",
   "execution_count": null,
   "id": "prostate-potter",
   "metadata": {},
   "outputs": [],
   "source": []
  }
 ],
 "metadata": {
  "kernelspec": {
   "display_name": "Python 3",
   "language": "python",
   "name": "python3"
  },
  "language_info": {
   "codemirror_mode": {
    "name": "ipython",
    "version": 3
   },
   "file_extension": ".py",
   "mimetype": "text/x-python",
   "name": "python",
   "nbconvert_exporter": "python",
   "pygments_lexer": "ipython3",
   "version": "3.9.0"
  }
 },
 "nbformat": 4,
 "nbformat_minor": 5
}
